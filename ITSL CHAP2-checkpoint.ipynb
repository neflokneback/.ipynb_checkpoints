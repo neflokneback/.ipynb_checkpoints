{
 "cells": [
  {
   "cell_type": "code",
   "execution_count": 1,
   "metadata": {
    "collapsed": true
   },
   "outputs": [],
   "source": [
    "import math\n",
    "import numpy as np\n",
    "import pandas as pd"
   ]
  },
  {
   "cell_type": "code",
   "execution_count": 6,
   "metadata": {},
   "outputs": [],
   "source": [
    "a=[[0,3,0,'r'],\n",
    "   [2,0,0,'r'],\n",
    "   [0,1,3,'r'],\n",
    "    [0,1,2,'g'],\n",
    "  [-1,0,1,'g'],\n",
    "   [1,1,1,'r']]\n",
    "\n",
    "b=[0,0,0]"
   ]
  },
  {
   "cell_type": "code",
   "execution_count": 20,
   "metadata": {},
   "outputs": [],
   "source": [
    "c=pd.DataFrame(a, columns=['x1','x2','x3','y'])"
   ]
  },
  {
   "cell_type": "code",
   "execution_count": 32,
   "metadata": {},
   "outputs": [
    {
     "data": {
      "text/plain": [
       "[2, 0, 0]"
      ]
     },
     "execution_count": 32,
     "metadata": {},
     "output_type": "execute_result"
    }
   ],
   "source": [
    "list(c.loc[1][['x1','x2','x3']])\n"
   ]
  },
  {
   "cell_type": "code",
   "execution_count": 33,
   "metadata": {},
   "outputs": [
    {
     "name": "stdout",
     "output_type": "stream",
     "text": [
      "r i E dis fo 3.0\n",
      "r i E dis fo 2.0\n",
      "r i E dis fo 3.1622776601683795\n",
      "r i E dis fo 2.23606797749979\n",
      "r i E dis fo 1.4142135623730951\n",
      "r i E dis fo 1.7320508075688772\n"
     ]
    }
   ],
   "source": [
    "for i in range(len(c)):\n",
    "    d=list(c.loc[i][['x1','x2','x3']])\n",
    "    distance =math.sqrt(sum([(d-b)**2 for d,b in zip(d,b)]))\n",
    "    print ('r i E dis fo',distance)"
   ]
  },
  {
   "cell_type": "code",
   "execution_count": null,
   "metadata": {
    "collapsed": true
   },
   "outputs": [],
   "source": [
    "#just do some changes and publish to master to see the change in github"
   ]
  }
 ],
 "metadata": {
  "kernelspec": {
   "display_name": "Python 3",
   "language": "python",
   "name": "python3"
  },
  "language_info": {
   "codemirror_mode": {
    "name": "ipython",
    "version": 3
   },
   "file_extension": ".py",
   "mimetype": "text/x-python",
   "name": "python",
   "nbconvert_exporter": "python",
   "pygments_lexer": "ipython3",
   "version": "3.6.3"
  }
 },
 "nbformat": 4,
 "nbformat_minor": 2
}
